{
 "cells": [
  {
   "cell_type": "code",
   "execution_count": 13,
   "metadata": {
    "collapsed": true,
    "ExecuteTime": {
     "end_time": "2023-06-30T02:30:20.879500Z",
     "start_time": "2023-06-30T02:30:20.872817Z"
    }
   },
   "outputs": [],
   "source": [
    "import numpy as np\n",
    "import pandas as pd\n",
    "import math\n",
    "import matplotlib.pyplot as plt"
   ]
  },
  {
   "cell_type": "code",
   "execution_count": 14,
   "outputs": [],
   "source": [
    "from collections.abc import Iterable\n",
    "\n",
    "\n",
    "def merge(database):\n",
    "    # from collections import Iterable\n",
    "\n",
    "    result = []\n",
    "    if isinstance(database, list):\n",
    "        if not isinstance(database[0], Iterable):\n",
    "            return database\n",
    "        res = database\n",
    "    else:\n",
    "        res = list(zip(database.values))\n",
    "\n",
    "    for i in res:\n",
    "        result.append(''.join(str(i[0])))\n",
    "    return result\n",
    "\n",
    "\n",
    "def init_data(path, names, use_cols, savePath):\n",
    "    use_cols = [x.lower() for x in use_cols]\n",
    "    p = pd.read_csv(path, header=None, names=names, index_col=False)\n",
    "    p = p[use_cols].replace(' ?', np.nan).dropna()\n",
    "    p.to_csv(savePath)\n",
    "    return p\n",
    "\n",
    "\n",
    "# 读取\n",
    "def read_file(path, sep=','):\n",
    "    if sep == ';':\n",
    "        p = pd.read_csv(path, sep=';', index_col=False, dtype=str)\n",
    "    else:\n",
    "        p = pd.read_csv(path, index_col=0, dtype=str)\n",
    "    return p"
   ],
   "metadata": {
    "collapsed": false,
    "ExecuteTime": {
     "end_time": "2023-06-30T02:30:20.881158Z",
     "start_time": "2023-06-30T02:30:20.875306Z"
    }
   }
  },
  {
   "cell_type": "code",
   "execution_count": 15,
   "outputs": [],
   "source": [
    "###########################################\n",
    "'''统计数组中的不同数据及其出现次数'''\n",
    "'''返回值：diffData，存储data中出现的不同数据'''\n",
    "'''       diffDataNum, 存储不同数据的出现次数'''\n",
    "\n",
    "\n",
    "###########################################\n",
    "def StatDataInf(data):\n",
    "    dataArrayLen = len(data)\n",
    "    diffData = []\n",
    "    diffDataNum = []\n",
    "    dataCpy = []\n",
    "    for n in data:\n",
    "        dataCpy.append(n)\n",
    "    for i in range(dataArrayLen):\n",
    "        count = 0\n",
    "        j = i\n",
    "        if (dataCpy[j] != '/'):\n",
    "            temp = dataCpy[i]\n",
    "            diffData.append(temp)\n",
    "            while (j < dataArrayLen):\n",
    "                if (dataCpy[j] == temp):\n",
    "                    count = count + 1\n",
    "                    dataCpy[j] = '/'\n",
    "                j = j + 1\n",
    "            diffDataNum.append(count)\n",
    "    return diffData, diffDataNum\n",
    "\n",
    "\n",
    "#########################################################\n",
    "'''生成（X,Y）的联合分布律'''\n",
    "'''返回值：distributionXY，二维随机变量（X,Y）的联合分布律'''\n",
    "\n",
    "\n",
    "#########################################################\n",
    "def CreateDistribution(X, Y):\n",
    "    # sampleCount is the sample's count\n",
    "    sampleCount = len(X)\n",
    "\n",
    "    [diffData_X, diffDataNum_X] = StatDataInf(X)\n",
    "    [diffData_Y, diffDataNum_Y] = StatDataInf(Y)\n",
    "\n",
    "    # diffDataCount_X is the horizontal component is distribution table\n",
    "    diffDataCount_X = len(diffData_X)\n",
    "\n",
    "    # diffDataCount_Y is the vertical component is distribution table\n",
    "    diffDataCount_Y = len(diffData_Y)\n",
    "\n",
    "    distributionXY = np.zeros((diffDataCount_Y, diffDataCount_X))\n",
    "\n",
    "    for i in range(diffDataCount_Y):\n",
    "        for j in range(diffDataCount_X):\n",
    "            count = 0\n",
    "            for k in range(sampleCount):\n",
    "                if (Y[k] == diffData_Y[i]) and (X[k] == diffData_X[j]):\n",
    "                    count = count + 1\n",
    "            distributionXY[i][j] = count / sampleCount\n",
    "\n",
    "    return distributionXY\n",
    "\n",
    "\n",
    "#############################################\n",
    "'''计算联合熵'''\n",
    "\n",
    "\n",
    "#############################################\n",
    "def JointEntropy(distributionXY):\n",
    "    je = 0\n",
    "    [lenY, lenX] = np.shape(distributionXY)\n",
    "    for i in range(lenY):\n",
    "        for j in range(lenX):\n",
    "            if (distributionXY[i][j] != 0):\n",
    "                je = je - distributionXY[i][j] * math.log2(distributionXY[i][j])\n",
    "    return je\n",
    "\n",
    "\n",
    "###########################################\n",
    "'''计算条件熵'''\n",
    "'''返回值：HX_Y, Y发生条件下X发生的条件熵'''\n",
    "'''       HY_X, X发生条件下Y发生的条件熵'''\n",
    "\n",
    "\n",
    "###########################################\n",
    "def ConditionEntropy(distributionXY):\n",
    "    HX_Y = 0\n",
    "    HY_X = 0\n",
    "    [lenY, lenX] = np.shape(distributionXY)\n",
    "    '''边缘概率'''\n",
    "    pY = np.sum(distributionXY, axis=1)\n",
    "    pX = np.sum(distributionXY, axis=0)\n",
    "\n",
    "    ''' Y 发生条件下 X 发生的概率表'''\n",
    "    ConditionPX_Y = np.zeros((lenY, lenX))\n",
    "    for i in range(lenY):\n",
    "        for j in range(lenX):\n",
    "            ConditionPX_Y[i][j] = distributionXY[i][j] / pY[i]\n",
    "    '''计算Y发生条件下X发生的条件熵HX_Y'''\n",
    "    for i in range(lenY):\n",
    "        for j in range(lenX):\n",
    "            if (ConditionPX_Y[i][j] != 0):\n",
    "                HX_Y = HX_Y - distributionXY[i][j] * math.log2(ConditionPX_Y[i][j])\n",
    "\n",
    "    ''' X 发生条件下 Y 发生的概率表'''\n",
    "    ConditionPY_X = np.zeros((lenY, lenX))\n",
    "    for i in range(lenY):\n",
    "        for j in range(lenX):\n",
    "            ConditionPY_X[i][j] = distributionXY[i][j] / pX[j]\n",
    "    '''计算X发生条件下Y发生的条件熵HX_Y'''\n",
    "    for i in range(lenY):\n",
    "        for j in range(lenX):\n",
    "            if (ConditionPY_X[i][j] != 0):\n",
    "                HY_X = HY_X - distributionXY[i][j] * math.log2(ConditionPY_X[i][j])\n",
    "\n",
    "    return HX_Y, HY_X\n",
    "\n",
    "\n",
    "###########################################\n",
    "'''计算已知数据的熵'''\n",
    "\n",
    "\n",
    "###########################################\n",
    "def DataEntropy(data, diffData, diffDataNum):\n",
    "    dataArrayLen = len(data)\n",
    "    diffDataArrayLen = len(diffDataNum)\n",
    "    entropyVal = 0\n",
    "    for i in range(diffDataArrayLen):\n",
    "        proptyVal = diffDataNum[i] / dataArrayLen\n",
    "        if (proptyVal != 0):\n",
    "            entropyVal = entropyVal - proptyVal * math.log2(proptyVal)\n",
    "    return entropyVal"
   ],
   "metadata": {
    "collapsed": false,
    "ExecuteTime": {
     "end_time": "2023-06-30T02:30:20.894602Z",
     "start_time": "2023-06-30T02:30:20.889974Z"
    }
   }
  },
  {
   "cell_type": "code",
   "execution_count": 16,
   "outputs": [],
   "source": [
    "from collections.abc import Iterable\n",
    "\n",
    "\n",
    "def get_value(X):\n",
    "    if isinstance(X, pd.DataFrame) or isinstance(X, pd.Series):\n",
    "        return X.values\n",
    "    return X\n",
    "\n",
    "\n",
    "def entropy(X):\n",
    "    X = get_value(X)\n",
    "    [diffData, diffDataNum] = StatDataInf(X)\n",
    "    entropyVal = DataEntropy(X, diffData, diffDataNum)\n",
    "    return entropyVal\n",
    "\n",
    "\n",
    "def condition_entropy(X, Y):\n",
    "    X = get_value(X)\n",
    "    Y = get_value(Y)\n",
    "    distributionXY = CreateDistribution(X, Y)\n",
    "    return ConditionEntropy(distributionXY)[0]\n",
    "\n",
    "\n",
    "def mutual_information(X, Y):\n",
    "    return entropy(X) - condition_entropy(X, Y)\n",
    "\n",
    "\n",
    "def joint_entropy(X, Y):\n",
    "    return entropy(Y) + condition_entropy(X, Y)"
   ],
   "metadata": {
    "collapsed": false,
    "ExecuteTime": {
     "end_time": "2023-06-30T02:30:20.901532Z",
     "start_time": "2023-06-30T02:30:20.893813Z"
    }
   }
  },
  {
   "cell_type": "code",
   "execution_count": 17,
   "outputs": [],
   "source": [
    "class calculate_my:\n",
    "    def __init__(self, raw_data, disinfection_data, prv, pub, others=None):\n",
    "        self.prv = raw_data[prv]\n",
    "        self.pub = raw_data[pub]\n",
    "        self.sprv = disinfection_data[prv]\n",
    "        self.spub = disinfection_data[pub]\n",
    "        self.prv_row = prv\n",
    "\n",
    "    def calculate_np(self):\n",
    "        p = []\n",
    "        for i in self.prv_row:\n",
    "            ans = 1 - (mutual_information(merge(self.sprv[i]), merge(self.spub)) / entropy(self.sprv[i])) / (\n",
    "                        mutual_information(merge(self.prv[i]), merge(self.pub)) / entropy(self.prv[i]))\n",
    "            p.append(ans)\n",
    "        return p\n",
    "\n",
    "    def calculate_nu(self):\n",
    "        p = []\n",
    "        for i in self.prv_row:\n",
    "            p.append((entropy(merge(self.sprv[i])) + entropy(merge(self.spub))) / (\n",
    "                    entropy(merge(self.prv[i])) + entropy(merge(self.pub))))\n",
    "        return p"
   ],
   "metadata": {
    "collapsed": false,
    "ExecuteTime": {
     "end_time": "2023-06-30T02:30:20.901802Z",
     "start_time": "2023-06-30T02:30:20.899498Z"
    }
   }
  },
  {
   "cell_type": "code",
   "execution_count": 18,
   "outputs": [
    {
     "name": "stdout",
     "output_type": "stream",
     "text": [
      " $\\eta_p=0.067903 \\eta_u=0.938447 $ \n"
     ]
    }
   ],
   "source": [
    "database_path = {\n",
    "    'pre_database_path': './data/adult2-anonymized.csv',\n",
    "    'mod_database_path': './data/adult2-anonymized2.csv'\n",
    "}\n",
    "raw_data = read_file(database_path['pre_database_path'])\n",
    "disinfection_data = read_file(database_path['mod_database_path'])\n",
    "cm = calculate_my(raw_data, disinfection_data, ['salary', ],\n",
    "                  ['age', 'workclass', 'education', 'marital-status', 'occupation', 'race', 'sex', 'native-country'])\n",
    "# cm = calculate_my(raw_data, disinfection_data, ['Salary', ], ['ZIP Code', 'Age'], ['Disease', ])\n",
    "print(' $\\eta_p=%f , \\eta_u=%f $ ' % (cm.calculate_np()[0], cm.calculate_nu()[0]))"
   ],
   "metadata": {
    "collapsed": false,
    "ExecuteTime": {
     "end_time": "2023-06-30T02:32:03.959793Z",
     "start_time": "2023-06-30T02:30:20.902891Z"
    }
   }
  },
  {
   "cell_type": "code",
   "execution_count": 19,
   "outputs": [
    {
     "name": "stdout",
     "output_type": "stream",
     "text": [
      " $\\eta_p=0.108046 \\eta_u=0.873263 $ \n"
     ]
    }
   ],
   "source": [
    "database_path = {\n",
    "    'pre_database_path': './data/adult2-anonymized.csv',\n",
    "    'mod_database_path': './data/adult2-anonymized4.csv'\n",
    "}\n",
    "raw_data = read_file(database_path['pre_database_path'])\n",
    "disinfection_data = read_file(database_path['mod_database_path'])\n",
    "cm = calculate_my(raw_data, disinfection_data, ['salary', ],\n",
    "                  ['age', 'workclass', 'education', 'marital-status', 'occupation', 'race', 'sex', 'native-country'])\n",
    "# cm = calculate_my(raw_data, disinfection_data, ['Salary', ], ['ZIP Code', 'Age'], ['Disease', ])\n",
    "print(' $\\eta_p=%f , \\eta_u=%f $ ' % (cm.calculate_np()[0], cm.calculate_nu()[0]))"
   ],
   "metadata": {
    "collapsed": false,
    "ExecuteTime": {
     "end_time": "2023-06-30T02:33:30.492148Z",
     "start_time": "2023-06-30T02:32:03.960121Z"
    }
   }
  },
  {
   "cell_type": "code",
   "execution_count": 21,
   "outputs": [
    {
     "name": "stdout",
     "output_type": "stream",
     "text": [
      " $\\eta_p=0.202747 , \\eta_u=0.775153 $ \n"
     ]
    }
   ],
   "source": [
    "database_path = {\n",
    "    'pre_database_path': './data/adult2-anonymized.csv',\n",
    "    'mod_database_path': './data/adult2-anonymized9.csv'\n",
    "}\n",
    "raw_data = read_file(database_path['pre_database_path'])\n",
    "disinfection_data = read_file(database_path['mod_database_path'])\n",
    "\n",
    "cm = calculate_my(raw_data, disinfection_data, ['salary', ],\n",
    "                  ['age', 'workclass', 'education', 'marital-status', 'occupation', 'race', 'sex', 'native-country'])\n",
    "# cm = calculate_my(raw_data, disinfection_data, ['Salary', ], ['ZIP Code', 'Age'], ['Disease', ])\n",
    "print(' $\\eta_p=%f , \\eta_u=%f $ ' % (cm.calculate_np()[0], cm.calculate_nu()[0]))"
   ],
   "metadata": {
    "collapsed": false,
    "ExecuteTime": {
     "end_time": "2023-06-30T02:35:08.589213Z",
     "start_time": "2023-06-30T02:33:50.769456Z"
    }
   }
  },
  {
   "cell_type": "code",
   "execution_count": null,
   "outputs": [],
   "source": [],
   "metadata": {
    "collapsed": false
   }
  }
 ],
 "metadata": {
  "kernelspec": {
   "display_name": "Python 3",
   "language": "python",
   "name": "python3"
  },
  "language_info": {
   "codemirror_mode": {
    "name": "ipython",
    "version": 2
   },
   "file_extension": ".py",
   "mimetype": "text/x-python",
   "name": "python",
   "nbconvert_exporter": "python",
   "pygments_lexer": "ipython2",
   "version": "2.7.6"
  }
 },
 "nbformat": 4,
 "nbformat_minor": 0
}
