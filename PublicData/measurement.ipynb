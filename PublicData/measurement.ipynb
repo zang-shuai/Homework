{
 "cells": [
  {
   "cell_type": "code",
   "execution_count": 86,
   "metadata": {
    "collapsed": true,
    "ExecuteTime": {
     "end_time": "2023-07-17T07:46:03.030021Z",
     "start_time": "2023-07-17T07:46:03.026951Z"
    }
   },
   "outputs": [],
   "source": [
    "import numpy as np\n",
    "import pandas as pd\n",
    "import math\n",
    "import matplotlib.pyplot as plt"
   ]
  },
  {
   "cell_type": "code",
   "execution_count": 87,
   "outputs": [],
   "source": [
    "from collections.abc import Iterable\n",
    "\n",
    "\n",
    "def merge(database):\n",
    "    # from collections import Iterable\n",
    "\n",
    "    result = []\n",
    "    if isinstance(database, list):\n",
    "        if not isinstance(database[0], Iterable):\n",
    "            return database\n",
    "        res = database\n",
    "    else:\n",
    "        res = list(zip(database.values))\n",
    "\n",
    "    for i in res:\n",
    "        result.append(''.join(str(i[0])))\n",
    "    return result\n",
    "\n",
    "\n",
    "def init_data(path, names, use_cols, savePath):\n",
    "    use_cols = [x.lower() for x in use_cols]\n",
    "    p = pd.read_csv(path, header=None, names=names, index_col=False)\n",
    "    p = p[use_cols].replace(' ?', np.nan).dropna()\n",
    "    p.to_csv(savePath)\n",
    "    return p\n",
    "\n",
    "\n",
    "# 读取\n",
    "def read_file(path, sep=','):\n",
    "    if sep == ';':\n",
    "        p = pd.read_csv(path, sep=';', index_col=False, dtype=str)\n",
    "    else:\n",
    "        p = pd.read_csv(path, index_col=0, dtype=str)\n",
    "    return p"
   ],
   "metadata": {
    "collapsed": false,
    "ExecuteTime": {
     "end_time": "2023-07-17T07:46:03.037933Z",
     "start_time": "2023-07-17T07:46:03.032096Z"
    }
   }
  },
  {
   "cell_type": "code",
   "execution_count": 88,
   "outputs": [],
   "source": [
    "###########################################\n",
    "'''统计数组中的不同数据及其出现次数'''\n",
    "'''返回值：diffData，存储data中出现的不同数据'''\n",
    "'''       diffDataNum, 存储不同数据的出现次数'''\n",
    "\n",
    "\n",
    "###########################################\n",
    "def StatDataInf(data):\n",
    "    dataArrayLen = len(data)\n",
    "    diffData = []\n",
    "    diffDataNum = []\n",
    "    dataCpy = []\n",
    "    for n in data:\n",
    "        dataCpy.append(n)\n",
    "    for i in range(dataArrayLen):\n",
    "        count = 0\n",
    "        j = i\n",
    "        if dataCpy[j] != '/':\n",
    "            temp = dataCpy[i]\n",
    "            diffData.append(temp)\n",
    "            while j < dataArrayLen:\n",
    "                if dataCpy[j] == temp:\n",
    "                    count = count + 1\n",
    "                    dataCpy[j] = '/'\n",
    "                j = j + 1\n",
    "            diffDataNum.append(count)\n",
    "    return diffData, diffDataNum\n",
    "\n",
    "\n",
    "#########################################################\n",
    "'''生成（X,Y）的联合分布律'''\n",
    "'''返回值：distributionXY，二维随机变量（X,Y）的联合分布律'''\n",
    "\n",
    "\n",
    "#########################################################\n",
    "def CreateDistribution(X, Y):\n",
    "    # sampleCount is the sample's count\n",
    "    sampleCount = len(X)\n",
    "\n",
    "    [diffData_X, diffDataNum_X] = StatDataInf(X)\n",
    "    [diffData_Y, diffDataNum_Y] = StatDataInf(Y)\n",
    "\n",
    "    # diffDataCount_X is the horizontal component is distribution table\n",
    "    diffDataCount_X = len(diffData_X)\n",
    "\n",
    "    # diffDataCount_Y is the vertical component is distribution table\n",
    "    diffDataCount_Y = len(diffData_Y)\n",
    "\n",
    "    distributionXY = np.zeros((diffDataCount_Y, diffDataCount_X))\n",
    "\n",
    "    for i in range(diffDataCount_Y):\n",
    "        for j in range(diffDataCount_X):\n",
    "            count = 0\n",
    "            for k in range(sampleCount):\n",
    "                if (Y[k] == diffData_Y[i]) and (X[k] == diffData_X[j]):\n",
    "                    count = count + 1\n",
    "            distributionXY[i][j] = count / sampleCount\n",
    "\n",
    "    return distributionXY\n",
    "\n",
    "\n",
    "#############################################\n",
    "'''计算联合熵'''\n",
    "\n",
    "\n",
    "#############################################\n",
    "def JointEntropy(distributionXY):\n",
    "    je = 0\n",
    "    [lenY, lenX] = np.shape(distributionXY)\n",
    "    for i in range(lenY):\n",
    "        for j in range(lenX):\n",
    "            if (distributionXY[i][j] != 0):\n",
    "                je = je - distributionXY[i][j] * math.log2(distributionXY[i][j])\n",
    "    return je\n",
    "\n",
    "\n",
    "###########################################\n",
    "'''计算条件熵'''\n",
    "'''返回值：HX_Y, Y发生条件下X发生的条件熵'''\n",
    "'''       HY_X, X发生条件下Y发生的条件熵'''\n",
    "\n",
    "\n",
    "###########################################\n",
    "def ConditionEntropy(distributionXY):\n",
    "    HX_Y = 0\n",
    "    HY_X = 0\n",
    "    [lenY, lenX] = np.shape(distributionXY)\n",
    "    '''边缘概率'''\n",
    "    pY = np.sum(distributionXY, axis=1)\n",
    "    pX = np.sum(distributionXY, axis=0)\n",
    "\n",
    "    ''' Y 发生条件下 X 发生的概率表'''\n",
    "    ConditionPX_Y = np.zeros((lenY, lenX))\n",
    "    for i in range(lenY):\n",
    "        for j in range(lenX):\n",
    "            ConditionPX_Y[i][j] = distributionXY[i][j] / pY[i]\n",
    "    '''计算Y发生条件下X发生的条件熵HX_Y'''\n",
    "    for i in range(lenY):\n",
    "        for j in range(lenX):\n",
    "            if (ConditionPX_Y[i][j] != 0):\n",
    "                HX_Y = HX_Y - distributionXY[i][j] * math.log2(ConditionPX_Y[i][j])\n",
    "\n",
    "    ''' X 发生条件下 Y 发生的概率表'''\n",
    "    ConditionPY_X = np.zeros((lenY, lenX))\n",
    "    for i in range(lenY):\n",
    "        for j in range(lenX):\n",
    "            ConditionPY_X[i][j] = distributionXY[i][j] / pX[j]\n",
    "    '''计算X发生条件下Y发生的条件熵HX_Y'''\n",
    "    for i in range(lenY):\n",
    "        for j in range(lenX):\n",
    "            if (ConditionPY_X[i][j] != 0):\n",
    "                HY_X = HY_X - distributionXY[i][j] * math.log2(ConditionPY_X[i][j])\n",
    "\n",
    "    return HX_Y, HY_X\n",
    "\n",
    "\n",
    "###########################################\n",
    "'''计算已知数据的熵'''\n",
    "\n",
    "\n",
    "###########################################\n",
    "def DataEntropy(data, diffData, diffDataNum):\n",
    "    dataArrayLen = len(data)\n",
    "    diffDataArrayLen = len(diffDataNum)\n",
    "    entropyVal = 0\n",
    "    for i in range(diffDataArrayLen):\n",
    "        proptyVal = diffDataNum[i] / dataArrayLen\n",
    "        if proptyVal != 0:\n",
    "            entropyVal = entropyVal - proptyVal * math.log2(proptyVal)\n",
    "    return entropyVal"
   ],
   "metadata": {
    "collapsed": false,
    "ExecuteTime": {
     "end_time": "2023-07-17T07:46:03.047576Z",
     "start_time": "2023-07-17T07:46:03.041470Z"
    }
   }
  },
  {
   "cell_type": "code",
   "execution_count": 89,
   "outputs": [],
   "source": [
    "from collections.abc import Iterable\n",
    "\n",
    "\n",
    "def get_value(X):\n",
    "    if isinstance(X, pd.DataFrame) or isinstance(X, pd.Series):\n",
    "        return X.values\n",
    "    return X\n",
    "\n",
    "\n",
    "def entropy(X):\n",
    "    X = get_value(X)\n",
    "    [diffData, diffDataNum] = StatDataInf(X)\n",
    "    entropyVal = DataEntropy(X, diffData, diffDataNum)\n",
    "    return entropyVal\n",
    "\n",
    "\n",
    "def condition_entropy(X, Y):\n",
    "    X = get_value(X)\n",
    "    Y = get_value(Y)\n",
    "    distributionXY = CreateDistribution(X, Y)\n",
    "    return ConditionEntropy(distributionXY)[0]\n",
    "\n",
    "\n",
    "def mutual_information(X, Y):\n",
    "    return entropy(X) - condition_entropy(X, Y)\n",
    "\n",
    "\n",
    "# def joint_entropy(X, Y):\n",
    "#     return entropy(Y) + condition_entropy(X, Y)\n",
    "\n",
    "\n",
    "def joint_entropy(X, Y, Z=None):\n",
    "    XYZ = []\n",
    "    for i in range(len(X)):\n",
    "        XYZ.append(str(X[i]) + str(Y[i]) + str(Z[i]))\n",
    "    return entropy(XYZ)\n",
    "\n",
    "\n",
    "# 3个数据互信息\n",
    "def mutual_information_3(X, Y, Z):\n",
    "    return -(entropy(X) + entropy(Y) + entropy(Z) - mutual_information(X, Y) - mutual_information(X,\n",
    "                                                                                                  Z) - mutual_information(\n",
    "        Z, Y) - joint_entropy(X, Y, Z))"
   ],
   "metadata": {
    "collapsed": false,
    "ExecuteTime": {
     "end_time": "2023-07-17T07:46:03.054090Z",
     "start_time": "2023-07-17T07:46:03.046020Z"
    }
   }
  },
  {
   "cell_type": "code",
   "execution_count": 90,
   "outputs": [],
   "source": [
    "class calculate_my:\n",
    "    def __init__(self, raw_data, disinfection_data, prv, pub, others=None):\n",
    "        self.prv = raw_data[prv]\n",
    "        self.pub = raw_data[pub]\n",
    "        self.sprv = disinfection_data[prv]\n",
    "        self.spub = disinfection_data[pub]\n",
    "        self.prv_row = prv\n",
    "\n",
    "    def calculate_np(self):\n",
    "        p = []\n",
    "        for i in self.prv_row:\n",
    "            ans = 1 - (mutual_information(merge(self.sprv[i]), merge(self.spub)) / entropy(self.sprv[i])) / (\n",
    "                    mutual_information(merge(self.prv[i]), merge(self.pub)) / entropy(self.prv[i]))\n",
    "            p.append(ans)\n",
    "        return p\n",
    "\n",
    "    def calculate_nu(self):\n",
    "        p = []\n",
    "        for i in self.prv_row:\n",
    "            p.append((entropy(merge(self.sprv[i])) + entropy(merge(self.spub))) / (\n",
    "                    entropy(merge(self.prv[i])) + entropy(merge(self.pub))))\n",
    "        return p"
   ],
   "metadata": {
    "collapsed": false,
    "ExecuteTime": {
     "end_time": "2023-07-17T07:46:03.054355Z",
     "start_time": "2023-07-17T07:46:03.051315Z"
    }
   }
  },
  {
   "cell_type": "code",
   "execution_count": 96,
   "outputs": [
    {
     "name": "stdout",
     "output_type": "stream",
     "text": [
      "[0.26586005894097564, 0.2303791037381827] [0.9323300449433686, 0.9369201317967215]\n"
     ]
    },
    {
     "data": {
      "text/plain": "            age    workclass      education         marital-status  \\\nindex                                                                \n*       [1, 20]            *              *          Never-married   \n*       [1, 20]            *              *          Never-married   \n*       [1, 20]            *              *  Married-spouse-absent   \n*       [1, 20]            *              *          Never-married   \n*      [21, 40]            *              *          Never-married   \n...         ...          ...            ...                    ...   \n*      [21, 40]    State-gov  Undergraduate     Married-civ-spouse   \n*      [41, 60]    State-gov  Undergraduate               Divorced   \n*      [41, 60]    State-gov  Undergraduate     Married-civ-spouse   \n*            19  Without-pay        HS-grad          Never-married   \n*            19  Without-pay        HS-grad          Never-married   \n\n             occupation                race     sex native-country salary  \nindex                                                                      \n*                     *  Amer-Indian-Eskimo  Female              *  <=50K  \n*                     *  Amer-Indian-Eskimo  Female              *  <=50K  \n*                     *  Amer-Indian-Eskimo  Female              *  <=50K  \n*                     *  Amer-Indian-Eskimo  Female              *  <=50K  \n*                     *  Amer-Indian-Eskimo  Female              *  <=50K  \n...                 ...                 ...     ...            ...    ...  \n*      Transport-moving               White    Male  United-States  <=50K  \n*      Transport-moving               White    Male  United-States  <=50K  \n*      Transport-moving               White    Male  United-States  <=50K  \n*       Farming-fishing               White    Male  United-States  <=50K  \n*       Farming-fishing               White    Male  United-States  <=50K  \n\n[30162 rows x 9 columns]",
      "text/html": "<div>\n<style scoped>\n    .dataframe tbody tr th:only-of-type {\n        vertical-align: middle;\n    }\n\n    .dataframe tbody tr th {\n        vertical-align: top;\n    }\n\n    .dataframe thead th {\n        text-align: right;\n    }\n</style>\n<table border=\"1\" class=\"dataframe\">\n  <thead>\n    <tr style=\"text-align: right;\">\n      <th></th>\n      <th>age</th>\n      <th>workclass</th>\n      <th>education</th>\n      <th>marital-status</th>\n      <th>occupation</th>\n      <th>race</th>\n      <th>sex</th>\n      <th>native-country</th>\n      <th>salary</th>\n    </tr>\n    <tr>\n      <th>index</th>\n      <th></th>\n      <th></th>\n      <th></th>\n      <th></th>\n      <th></th>\n      <th></th>\n      <th></th>\n      <th></th>\n      <th></th>\n    </tr>\n  </thead>\n  <tbody>\n    <tr>\n      <th>*</th>\n      <td>[1, 20]</td>\n      <td>*</td>\n      <td>*</td>\n      <td>Never-married</td>\n      <td>*</td>\n      <td>Amer-Indian-Eskimo</td>\n      <td>Female</td>\n      <td>*</td>\n      <td>&lt;=50K</td>\n    </tr>\n    <tr>\n      <th>*</th>\n      <td>[1, 20]</td>\n      <td>*</td>\n      <td>*</td>\n      <td>Never-married</td>\n      <td>*</td>\n      <td>Amer-Indian-Eskimo</td>\n      <td>Female</td>\n      <td>*</td>\n      <td>&lt;=50K</td>\n    </tr>\n    <tr>\n      <th>*</th>\n      <td>[1, 20]</td>\n      <td>*</td>\n      <td>*</td>\n      <td>Married-spouse-absent</td>\n      <td>*</td>\n      <td>Amer-Indian-Eskimo</td>\n      <td>Female</td>\n      <td>*</td>\n      <td>&lt;=50K</td>\n    </tr>\n    <tr>\n      <th>*</th>\n      <td>[1, 20]</td>\n      <td>*</td>\n      <td>*</td>\n      <td>Never-married</td>\n      <td>*</td>\n      <td>Amer-Indian-Eskimo</td>\n      <td>Female</td>\n      <td>*</td>\n      <td>&lt;=50K</td>\n    </tr>\n    <tr>\n      <th>*</th>\n      <td>[21, 40]</td>\n      <td>*</td>\n      <td>*</td>\n      <td>Never-married</td>\n      <td>*</td>\n      <td>Amer-Indian-Eskimo</td>\n      <td>Female</td>\n      <td>*</td>\n      <td>&lt;=50K</td>\n    </tr>\n    <tr>\n      <th>...</th>\n      <td>...</td>\n      <td>...</td>\n      <td>...</td>\n      <td>...</td>\n      <td>...</td>\n      <td>...</td>\n      <td>...</td>\n      <td>...</td>\n      <td>...</td>\n    </tr>\n    <tr>\n      <th>*</th>\n      <td>[21, 40]</td>\n      <td>State-gov</td>\n      <td>Undergraduate</td>\n      <td>Married-civ-spouse</td>\n      <td>Transport-moving</td>\n      <td>White</td>\n      <td>Male</td>\n      <td>United-States</td>\n      <td>&lt;=50K</td>\n    </tr>\n    <tr>\n      <th>*</th>\n      <td>[41, 60]</td>\n      <td>State-gov</td>\n      <td>Undergraduate</td>\n      <td>Divorced</td>\n      <td>Transport-moving</td>\n      <td>White</td>\n      <td>Male</td>\n      <td>United-States</td>\n      <td>&lt;=50K</td>\n    </tr>\n    <tr>\n      <th>*</th>\n      <td>[41, 60]</td>\n      <td>State-gov</td>\n      <td>Undergraduate</td>\n      <td>Married-civ-spouse</td>\n      <td>Transport-moving</td>\n      <td>White</td>\n      <td>Male</td>\n      <td>United-States</td>\n      <td>&lt;=50K</td>\n    </tr>\n    <tr>\n      <th>*</th>\n      <td>19</td>\n      <td>Without-pay</td>\n      <td>HS-grad</td>\n      <td>Never-married</td>\n      <td>Farming-fishing</td>\n      <td>White</td>\n      <td>Male</td>\n      <td>United-States</td>\n      <td>&lt;=50K</td>\n    </tr>\n    <tr>\n      <th>*</th>\n      <td>19</td>\n      <td>Without-pay</td>\n      <td>HS-grad</td>\n      <td>Never-married</td>\n      <td>Farming-fishing</td>\n      <td>White</td>\n      <td>Male</td>\n      <td>United-States</td>\n      <td>&lt;=50K</td>\n    </tr>\n  </tbody>\n</table>\n<p>30162 rows × 9 columns</p>\n</div>"
     },
     "execution_count": 96,
     "metadata": {},
     "output_type": "execute_result"
    }
   ],
   "source": [
    "database_path = {\n",
    "    'pre_database_path': './data2/adult.csv',\n",
    "    'mod_database_path': './data2/adult2-anonymized.csv'\n",
    "}\n",
    "raw_data = read_file(database_path['pre_database_path'])\n",
    "disinfection_data = read_file(database_path['mod_database_path'])\n",
    "cm = calculate_my(raw_data, disinfection_data, ['salary', 'marital-status', ],\n",
    "                  ['age', 'workclass', 'education', 'occupation', 'race', 'sex', 'native-country'])\n",
    "print(cm.calculate_np(), cm.calculate_nu())\n",
    "disinfection_data"
   ],
   "metadata": {
    "collapsed": false,
    "ExecuteTime": {
     "end_time": "2023-07-17T07:55:56.631493Z",
     "start_time": "2023-07-17T07:51:02.673392Z"
    }
   }
  },
  {
   "cell_type": "code",
   "execution_count": 97,
   "outputs": [
    {
     "name": "stdout",
     "output_type": "stream",
     "text": [
      "[0.3969048319374098, 0.3700634945242798] [0.9015925506745844, 0.908267577117894]\n"
     ]
    }
   ],
   "source": [
    "database_path = {\n",
    "    'pre_database_path': './data2/adult.csv',\n",
    "    'mod_database_path': './data2/adult4-anonymized.csv'\n",
    "}\n",
    "raw_data = read_file(database_path['pre_database_path'])\n",
    "disinfection_data = read_file(database_path['mod_database_path'])\n",
    "cm = calculate_my(raw_data, disinfection_data, ['salary', 'marital-status', ],\n",
    "                  ['age', 'workclass', 'education', 'occupation', 'race', 'sex', 'native-country'])\n",
    "# cm = calculate_my(raw_data, disinfection_data, ['Salary', ], ['ZIP Code', 'Age'], ['Disease', ])\n",
    "print(cm.calculate_np(), cm.calculate_nu())"
   ],
   "metadata": {
    "collapsed": false,
    "ExecuteTime": {
     "end_time": "2023-07-17T08:00:36.269566Z",
     "start_time": "2023-07-17T07:56:23.738792Z"
    }
   }
  },
  {
   "cell_type": "code",
   "execution_count": 98,
   "outputs": [
    {
     "name": "stdout",
     "output_type": "stream",
     "text": [
      "[0.5116686246273989, 0.499626323480875] [0.8254275231116667, 0.8372688614198095]\n"
     ]
    }
   ],
   "source": [
    "database_path = {\n",
    "    'pre_database_path': './data2/adult.csv',\n",
    "    'mod_database_path': './data2/adult9-anonymized.csv'\n",
    "}\n",
    "raw_data = read_file(database_path['pre_database_path'])\n",
    "disinfection_data = read_file(database_path['mod_database_path'])\n",
    "cm = calculate_my(raw_data, disinfection_data, ['salary', 'marital-status', ],\n",
    "                  ['age', 'workclass', 'education', 'occupation', 'race', 'sex', 'native-country'])\n",
    "# cm = calculate_my(raw_data, disinfection_data, ['Salary', ], ['ZIP Code', 'Age'], ['Disease', ])\n",
    "print(cm.calculate_np(), cm.calculate_nu())"
   ],
   "metadata": {
    "collapsed": false,
    "ExecuteTime": {
     "end_time": "2023-07-17T08:04:19.709865Z",
     "start_time": "2023-07-17T08:00:36.269765Z"
    }
   }
  },
  {
   "cell_type": "code",
   "execution_count": 99,
   "outputs": [
    {
     "name": "stdout",
     "output_type": "stream",
     "text": [
      "[0.9033190370582617, 0.9240246720244067] [0.5023032605209907, 0.536062278964662]\n"
     ]
    }
   ],
   "source": [
    "database_path = {\n",
    "    'pre_database_path': './data2/adult.csv',\n",
    "    'mod_database_path': './data2/adult2-closeness.csv'\n",
    "}\n",
    "raw_data = read_file(database_path['pre_database_path'])\n",
    "disinfection_data = read_file(database_path['mod_database_path'])\n",
    "cm = calculate_my(raw_data, disinfection_data, ['salary', 'marital-status', ],\n",
    "                  ['age', 'workclass', 'education', 'occupation', 'race', 'sex', 'native-country'])\n",
    "# cm = calculate_my(raw_data, disinfection_data, ['Salary', ], ['ZIP Code', 'Age'], ['Disease', ])\n",
    "print(cm.calculate_np(), cm.calculate_nu())"
   ],
   "metadata": {
    "collapsed": false,
    "ExecuteTime": {
     "end_time": "2023-07-17T08:24:45.571415Z",
     "start_time": "2023-07-17T08:21:24.182398Z"
    }
   }
  },
  {
   "cell_type": "code",
   "execution_count": 100,
   "outputs": [
    {
     "name": "stdout",
     "output_type": "stream",
     "text": [
      "[0.6600314826669976, 0.6854930140736482] [0.7469910132780279, 0.7641527392280566]\n"
     ]
    }
   ],
   "source": [
    "database_path = {\n",
    "    'pre_database_path': './data2/adult.csv',\n",
    "    'mod_database_path': './data2/adult4-closeness.csv'\n",
    "}\n",
    "raw_data = read_file(database_path['pre_database_path'])\n",
    "disinfection_data = read_file(database_path['mod_database_path'])\n",
    "cm = calculate_my(raw_data, disinfection_data, ['salary', 'marital-status', ],\n",
    "                  ['age', 'workclass', 'education', 'occupation', 'race', 'sex', 'native-country'])\n",
    "# cm = calculate_my(raw_data, disinfection_data, ['Salary', ], ['ZIP Code', 'Age'], ['Disease', ])\n",
    "print(cm.calculate_np(), cm.calculate_nu())"
   ],
   "metadata": {
    "collapsed": false,
    "ExecuteTime": {
     "end_time": "2023-07-17T08:28:48.749337Z",
     "start_time": "2023-07-17T08:24:45.571746Z"
    }
   }
  },
  {
   "cell_type": "code",
   "execution_count": 101,
   "outputs": [
    {
     "name": "stdout",
     "output_type": "stream",
     "text": [
      "[0.027868302301904735, 0.04516767498528429] [0.9718847128832027, 0.9737917868522197]\n"
     ]
    }
   ],
   "source": [
    "database_path = {\n",
    "    'pre_database_path': './data2/adult.csv',\n",
    "    'mod_database_path': './data2/adult9-closeness.csv'\n",
    "}\n",
    "raw_data = read_file(database_path['pre_database_path'])\n",
    "disinfection_data = read_file(database_path['mod_database_path'])\n",
    "cm = calculate_my(raw_data, disinfection_data, ['salary', 'marital-status', ],\n",
    "                  ['age', 'workclass', 'education', 'occupation', 'race', 'sex', 'native-country'])\n",
    "# cm = calculate_my(raw_data, disinfection_data, ['Salary', ], ['ZIP Code', 'Age'], ['Disease', ])\n",
    "print(cm.calculate_np(), cm.calculate_nu())"
   ],
   "metadata": {
    "collapsed": false,
    "ExecuteTime": {
     "end_time": "2023-07-17T08:35:05.904987Z",
     "start_time": "2023-07-17T08:28:48.750453Z"
    }
   }
  },
  {
   "cell_type": "code",
   "execution_count": null,
   "outputs": [],
   "source": [],
   "metadata": {
    "collapsed": false
   }
  },
  {
   "cell_type": "code",
   "execution_count": 102,
   "outputs": [
    {
     "name": "stdout",
     "output_type": "stream",
     "text": [
      "[6.661338147750939e-16, -1.1102230246251565e-15] [0.9999999999999628, 0.9999999999999653]\n"
     ]
    }
   ],
   "source": [],
   "metadata": {
    "collapsed": false,
    "ExecuteTime": {
     "end_time": "2023-07-17T09:16:19.689375Z",
     "start_time": "2023-07-17T09:09:46.750458Z"
    }
   }
  },
  {
   "cell_type": "code",
   "execution_count": 106,
   "outputs": [
    {
     "name": "stdout",
     "output_type": "stream",
     "text": [
      "[0.6622029651163528, 0.6399408023110831] [0.5828291125607753, 0.611126022237069]\n"
     ]
    }
   ],
   "source": [
    "database_path = {\n",
    "    'pre_database_path': './data2/adult.csv',\n",
    "    'mod_database_path': './data2/adult2-diversity.csv'\n",
    "}\n",
    "raw_data = read_file(database_path['pre_database_path'])\n",
    "disinfection_data = read_file(database_path['mod_database_path'])\n",
    "cm = calculate_my(raw_data, disinfection_data, ['salary', 'marital-status', ],\n",
    "                  ['age', 'workclass', 'education', 'occupation', 'race', 'sex', 'native-country'])\n",
    "# cm = calculate_my(raw_data, disinfection_data, ['Salary', ], ['ZIP Code', 'Age'], ['Disease', ])\n",
    "print(cm.calculate_np(), cm.calculate_nu())"
   ],
   "metadata": {
    "collapsed": false,
    "ExecuteTime": {
     "end_time": "2023-07-18T02:11:54.052163Z",
     "start_time": "2023-07-18T02:08:21.289894Z"
    }
   }
  },
  {
   "cell_type": "code",
   "execution_count": 107,
   "outputs": [
    {
     "name": "stdout",
     "output_type": "stream",
     "text": [
      "[0.7427011249870465, 0.7015606829571901] [0.4324005398752139, 0.47090109477743985]\n"
     ]
    }
   ],
   "source": [
    "database_path = {\n",
    "    'pre_database_path': './data2/adult.csv',\n",
    "    'mod_database_path': './data2/adult4-diversity.csv'\n",
    "}\n",
    "raw_data = read_file(database_path['pre_database_path'])\n",
    "disinfection_data = read_file(database_path['mod_database_path'])\n",
    "cm = calculate_my(raw_data, disinfection_data, ['salary', 'marital-status', ],\n",
    "                  ['age', 'workclass', 'education', 'occupation', 'race', 'sex', 'native-country'])\n",
    "# cm = calculate_my(raw_data, disinfection_data, ['Salary', ], ['ZIP Code', 'Age'], ['Disease', ])\n",
    "print(cm.calculate_np(), cm.calculate_nu())"
   ],
   "metadata": {
    "collapsed": false,
    "ExecuteTime": {
     "end_time": "2023-07-18T02:15:15.392983Z",
     "start_time": "2023-07-18T02:11:54.043475Z"
    }
   }
  },
  {
   "cell_type": "code",
   "execution_count": 108,
   "outputs": [
    {
     "name": "stdout",
     "output_type": "stream",
     "text": [
      "[0.8127183947094324, 0.8577081249078726] [0.36125557473640163, 0.4045819281616593]\n"
     ]
    }
   ],
   "source": [
    "database_path = {\n",
    "    'pre_database_path': './data2/adult.csv',\n",
    "    'mod_database_path': './data2/adult6-diversity.csv'\n",
    "}\n",
    "raw_data = read_file(database_path['pre_database_path'])\n",
    "disinfection_data = read_file(database_path['mod_database_path'])\n",
    "cm = calculate_my(raw_data, disinfection_data, ['salary', 'marital-status', ],\n",
    "                  ['age', 'workclass', 'education', 'occupation', 'race', 'sex', 'native-country'])\n",
    "# cm = calculate_my(raw_data, disinfection_data, ['Salary', ], ['ZIP Code', 'Age'], ['Disease', ])\n",
    "print(cm.calculate_np(), cm.calculate_nu())"
   ],
   "metadata": {
    "collapsed": false,
    "ExecuteTime": {
     "end_time": "2023-07-18T02:18:34.630780Z",
     "start_time": "2023-07-18T02:15:15.379819Z"
    }
   }
  },
  {
   "cell_type": "code",
   "execution_count": null,
   "outputs": [],
   "source": [],
   "metadata": {
    "collapsed": false
   }
  }
 ],
 "metadata": {
  "kernelspec": {
   "display_name": "Python 3",
   "language": "python",
   "name": "python3"
  },
  "language_info": {
   "codemirror_mode": {
    "name": "ipython",
    "version": 2
   },
   "file_extension": ".py",
   "mimetype": "text/x-python",
   "name": "python",
   "nbconvert_exporter": "python",
   "pygments_lexer": "ipython2",
   "version": "2.7.6"
  }
 },
 "nbformat": 4,
 "nbformat_minor": 0
}
